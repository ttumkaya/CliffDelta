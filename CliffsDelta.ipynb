{
 "cells": [
  {
   "cell_type": "code",
   "execution_count": 36,
   "metadata": {
    "collapsed": true
   },
   "outputs": [],
   "source": [
    "import numpy as np\n",
    "\n",
    "# Pass two \"LISTS\" to the function to calculate the difference in Cliff's delta.\n",
    "def cliffDelta(x,y):\n",
    "    lenx = len(x)\n",
    "    leny = len(y)\n",
    "    \n",
    "    ## generate a matrix full of zeros\n",
    "    matrix = np.zeros((lenx,leny))\n",
    "    \n",
    "    ## compare the two lists and put either 1 or -1 to the matrix (if they are equal, there is already a zero in the matrix) \n",
    "    for i in range(lenx):\n",
    "        for j in range(leny):\n",
    "            if x[i] > y[j]:\n",
    "                matrix[i,j] = 1\n",
    "            elif x[i] < y[j]:\n",
    "                matrix[i,j] = -1\n",
    "    \n",
    "    ## get the avarage of the dominance matrix\n",
    "    delta = matrix.sum() / (lenx * leny)\n",
    "    \n",
    "    return delta,matrix\n",
    "    "
   ]
  },
  {
   "cell_type": "code",
   "execution_count": 39,
   "metadata": {},
   "outputs": [],
   "source": [
    "import random\n",
    "a = [10,10,20,20,20,30,30,30,40,50]\n",
    "b = [10,20,30,40,40,50]"
   ]
  },
  {
   "cell_type": "code",
   "execution_count": 40,
   "metadata": {},
   "outputs": [
    {
     "data": {
      "text/plain": [
       "-0.25"
      ]
     },
     "execution_count": 40,
     "metadata": {},
     "output_type": "execute_result"
    }
   ],
   "source": [
    "delta, matrix = cliffDelta(a,b)\n",
    "delta"
   ]
  }
 ],
 "metadata": {
  "kernelspec": {
   "display_name": "Python 2",
   "language": "python",
   "name": "python2"
  },
  "language_info": {
   "codemirror_mode": {
    "name": "ipython",
    "version": 2
   },
   "file_extension": ".py",
   "mimetype": "text/x-python",
   "name": "python",
   "nbconvert_exporter": "python",
   "pygments_lexer": "ipython2",
   "version": "2.7.13"
  }
 },
 "nbformat": 4,
 "nbformat_minor": 2
}
